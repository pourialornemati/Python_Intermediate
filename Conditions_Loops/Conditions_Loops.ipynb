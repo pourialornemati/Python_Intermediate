{
 "cells": [
  {
   "cell_type": "code",
   "execution_count": 3,
   "metadata": {},
   "outputs": [
    {
     "name": "stdout",
     "output_type": "stream",
     "text": [
      "Goooaaal!\n",
      "Oh, we won! 1\n"
     ]
    }
   ],
   "source": [
    "action = \"goal\"\n",
    "score = 0\n",
    "\n",
    "if action == \"shot\":\n",
    "    print(\"Wow, you shot it!\")\n",
    "elif action == \"pass\":\n",
    "    print(\"He made a pass to his friends.\")\n",
    "elif action == \"goal\":\n",
    "    print(\"Goooaaal!\")\n",
    "    score += 1\n",
    "else:\n",
    "    print(\"What did you do?!\")    \n",
    "\n",
    "if score > 0:\n",
    "    print(f\"Oh, we won! {score}\")\n",
    "else:\n",
    "    print(\"It was a sloppy game.\")    "
   ]
  },
  {
   "cell_type": "code",
   "execution_count": 4,
   "metadata": {},
   "outputs": [
    {
     "name": "stdout",
     "output_type": "stream",
     "text": [
      "4 is Even\n",
      "8 is Even\n",
      "7 is Odd\n",
      "45 is Odd\n",
      "12 is Even\n",
      "123 is Odd\n",
      "47 is Odd\n",
      "65 is Odd\n",
      "95 is Odd\n",
      "10 is Even\n",
      "0 is Even\n"
     ]
    }
   ],
   "source": [
    "my_list = [4, 8, 7, 45, 12, 123, 47, 65, 95, 10, 0]\n",
    "for item in my_list:\n",
    "    if item % 2 == 0:\n",
    "        print(f\"{item} is Even\")\n",
    "    else:\n",
    "        print(f\"{item} is Odd\")"
   ]
  },
  {
   "cell_type": "code",
   "execution_count": 5,
   "metadata": {},
   "outputs": [
    {
     "name": "stdout",
     "output_type": "stream",
     "text": [
      "we have 5 even numbers\n"
     ]
    }
   ],
   "source": [
    "my_list = [4, 8, 7, 45, 12, 123, 47, 65, 95, 10, 0]\n",
    "count = 0\n",
    "for item in my_list:\n",
    "    if item % 2 == 0:\n",
    "        count += 1\n",
    "print(f\"we have {count} even numbers\")"
   ]
  },
  {
   "cell_type": "code",
   "execution_count": 6,
   "metadata": {},
   "outputs": [
    {
     "name": "stdout",
     "output_type": "stream",
     "text": [
      "we have 6 odd numbers\n"
     ]
    }
   ],
   "source": [
    "my_list = [4, 8, 7, 45, 12, 123, 47, 65, 95, 10, 0]\n",
    "count = 0\n",
    "for item in my_list:\n",
    "    if item % 2 != 0:\n",
    "        count += 1\n",
    "print(f\"we have {count} odd numbers\")"
   ]
  },
  {
   "cell_type": "code",
   "execution_count": 7,
   "metadata": {},
   "outputs": [
    {
     "name": "stdout",
     "output_type": "stream",
     "text": [
      "Another Number\n",
      "Another Number\n",
      "Another Number\n",
      "Another Number\n",
      "Another Number\n",
      "Another Number\n",
      "Another Number\n",
      "Another Number\n",
      "Another Number\n",
      "Another Number\n",
      "Another Number\n"
     ]
    }
   ],
   "source": [
    "for _ in my_list:\n",
    "    print(\"Another Number\")"
   ]
  },
  {
   "cell_type": "code",
   "execution_count": null,
   "metadata": {},
   "outputs": [],
   "source": [
    "# Unpacking"
   ]
  },
  {
   "cell_type": "code",
   "execution_count": 8,
   "metadata": {},
   "outputs": [
    {
     "name": "stdout",
     "output_type": "stream",
     "text": [
      "Your name is Pouria and You are 30 years old\n",
      "Your name is Paria and You are 28 years old\n",
      "Your name is Parsa and You are 29 years old\n"
     ]
    }
   ],
   "source": [
    "people = ((\"Pouria\", 30),(\"Paria\", 28),(\"Parsa\", 29))\n",
    "for name, age in people:\n",
    "    print(f\"Your name is {name} and You are {age} years old\")"
   ]
  },
  {
   "cell_type": "code",
   "execution_count": 9,
   "metadata": {},
   "outputs": [
    {
     "name": "stdout",
     "output_type": "stream",
     "text": [
      "Pouria 30\n",
      "Paria 28\n",
      "Parsa 29\n",
      "Kasra 21\n"
     ]
    }
   ],
   "source": [
    "people = {\n",
    "    \"Pouria\": (30, 180),\n",
    "    \"Paria\": (28, 174),\n",
    "    \"Parsa\": (29, 178),\n",
    "    \"Kasra\": (21, 182)\n",
    "}\n",
    "for person in people:\n",
    "    print(person, people[person][0])"
   ]
  },
  {
   "cell_type": "code",
   "execution_count": 10,
   "metadata": {},
   "outputs": [
    {
     "name": "stdout",
     "output_type": "stream",
     "text": [
      "Pouria --> (30, 180)\n",
      "Paria --> (28, 174)\n",
      "Parsa --> (29, 178)\n",
      "Kasra --> (21, 182)\n"
     ]
    }
   ],
   "source": [
    "people = {\n",
    "    \"Pouria\": (30, 180),\n",
    "    \"Paria\": (28, 174),\n",
    "    \"Parsa\": (29, 178),\n",
    "    \"Kasra\": (21, 182)\n",
    "}\n",
    "for person, data in people.items():\n",
    "    print(f\"{person} --> {data}\")"
   ]
  },
  {
   "cell_type": "code",
   "execution_count": 11,
   "metadata": {},
   "outputs": [
    {
     "name": "stdout",
     "output_type": "stream",
     "text": [
      "Pia\n"
     ]
    }
   ],
   "source": [
    "words = [\"Python\", \"is\", \"awesome\"]\n",
    "result = \"\"\n",
    "\n",
    "for word in words:\n",
    "    result += word[0]\n",
    "\n",
    "print(result)"
   ]
  },
  {
   "cell_type": "markdown",
   "metadata": {},
   "source": [
    "\"On many systems, pressing Ctrl + C interrupts or terminates a running process.\""
   ]
  },
  {
   "cell_type": "code",
   "execution_count": 12,
   "metadata": {},
   "outputs": [
    {
     "name": "stdout",
     "output_type": "stream",
     "text": [
      "a is 0\n",
      "a is 1\n",
      "a is 2\n",
      "a is 3\n",
      "a is 4\n",
      "a is 5\n",
      "a is 6\n",
      "a is 7\n",
      "a is 8\n",
      "a is 9\n",
      "Done in Number 10\n"
     ]
    }
   ],
   "source": [
    "a = 0\n",
    "while a < 10:\n",
    "    print(f\"a is {a}\")\n",
    "    a += 1\n",
    "print(f\"Done in Number {a}\")"
   ]
  },
  {
   "cell_type": "code",
   "execution_count": 1,
   "metadata": {},
   "outputs": [
    {
     "name": "stdout",
     "output_type": "stream",
     "text": [
      "1\n",
      "2\n",
      "hop\n",
      "4\n",
      "hip\n",
      "hop\n",
      "7\n",
      "8\n",
      "hop\n",
      "hip\n",
      "11\n",
      "hop\n",
      "13\n",
      "14\n",
      "hiphop\n",
      "16\n"
     ]
    }
   ],
   "source": [
    "n = 0\n",
    "\n",
    "while n < 20:\n",
    "    n += 1\n",
    "    if n % 3 == 0 and n % 5 == 0:\n",
    "        print(\"hiphop\")\n",
    "        continue\n",
    "    pass\n",
    "    pass\n",
    "    if n % 3 == 0:\n",
    "        pass\n",
    "        print(\"hop\")\n",
    "        continue\n",
    "    if n % 5 == 0:\n",
    "        print(\"hip\")\n",
    "        continue\n",
    "    if n == 17:\n",
    "        break\n",
    "    print(n)  \n"
   ]
  },
  {
   "cell_type": "markdown",
   "metadata": {},
   "source": [
    "list comprehension:"
   ]
  },
  {
   "cell_type": "code",
   "execution_count": 1,
   "metadata": {},
   "outputs": [
    {
     "name": "stdout",
     "output_type": "stream",
     "text": [
      "[0, 0.9, 18, -2]\n"
     ]
    }
   ],
   "source": [
    "l = [0, 0.45, 9, -1]\n",
    "\n",
    "new_l = []\n",
    "\n",
    "for n in l:\n",
    "    new_l.append(n*2)\n",
    "\n",
    "print(new_l)"
   ]
  },
  {
   "cell_type": "code",
   "execution_count": null,
   "metadata": {},
   "outputs": [
    {
     "name": "stdout",
     "output_type": "stream",
     "text": [
      "[0, 0.9, 18, -2]\n"
     ]
    }
   ],
   "source": [
    "# We'll run the above code using a different method.\n",
    "new_l = [n*2 for n in l]\n",
    "print(new_l)"
   ]
  },
  {
   "cell_type": "code",
   "execution_count": 6,
   "metadata": {},
   "outputs": [
    {
     "name": "stdout",
     "output_type": "stream",
     "text": [
      "fard\n"
     ]
    }
   ],
   "source": [
    "a = 5\n",
    "if a % 2 == 0:\n",
    "    res = \"zoj\"\n",
    "else:\n",
    "    res = \"fard\"\n",
    "print(res)"
   ]
  },
  {
   "cell_type": "code",
   "execution_count": null,
   "metadata": {},
   "outputs": [
    {
     "name": "stdout",
     "output_type": "stream",
     "text": [
      "fard\n"
     ]
    }
   ],
   "source": [
    "# We'll run the above code using a different method.\n",
    "res = \"fard\" if a % 2 != 0 else \"zoj\"\n",
    "print(res)"
   ]
  },
  {
   "cell_type": "code",
   "execution_count": 12,
   "metadata": {},
   "outputs": [
    {
     "name": "stdout",
     "output_type": "stream",
     "text": [
      "[0, 8]\n"
     ]
    }
   ],
   "source": [
    "l = [0, 0.45, 9, -1, 8]\n",
    "\n",
    "new_l = [n for n in l if n % 2 == 0 ]\n",
    "print(new_l)"
   ]
  },
  {
   "cell_type": "code",
   "execution_count": 13,
   "metadata": {},
   "outputs": [
    {
     "name": "stdout",
     "output_type": "stream",
     "text": [
      "['even', 'odd', 'odd', 'odd', 'even']\n"
     ]
    }
   ],
   "source": [
    "l = [0, 0.45, 9, -1, 8]\n",
    "\n",
    "new_l = [\"even\" if n%2==0 else \"odd\" for n in l]\n",
    "print(new_l)"
   ]
  },
  {
   "cell_type": "code",
   "execution_count": 16,
   "metadata": {},
   "outputs": [
    {
     "name": "stdout",
     "output_type": "stream",
     "text": [
      "[1, 2, 3, 4, 'HOP', 6, 7, 8, 9, 'HOP']\n"
     ]
    }
   ],
   "source": [
    "# برنامه هوپ\n",
    "l = [1, 2, 3, 4, 5, 6, 7, 8, 9, 10]\n",
    "\n",
    "new_l = [\"HOP\" if n%5==0 else n for n in l]\n",
    "print(new_l)"
   ]
  },
  {
   "cell_type": "code",
   "execution_count": 17,
   "metadata": {},
   "outputs": [
    {
     "name": "stdout",
     "output_type": "stream",
     "text": [
      "[1, 2, 3, 4, 'HOP', 6, 7, 8, 9, 'HOP']\n"
     ]
    }
   ],
   "source": [
    "# برنامه هوپ\n",
    "new_l = [\"HOP\" if n%5==0 else n for n in range(1, 11)]\n",
    "print(new_l)"
   ]
  },
  {
   "cell_type": "markdown",
   "metadata": {},
   "source": [
    "Operators widely used:"
   ]
  },
  {
   "cell_type": "code",
   "execution_count": null,
   "metadata": {},
   "outputs": [
    {
     "name": "stdout",
     "output_type": "stream",
     "text": [
      "0 0 0\t0 1 0\t0 2 0\t0 3 0\t0 4 0\t0 5 0\t\n",
      "1 0 0\t1 1 1\t1 2 2\t1 3 3\t1 4 4\t1 5 5\t\n",
      "2 0 0\t2 1 2\t2 2 4\t2 3 6\t2 4 8\t2 5 10\t\n",
      "3 0 0\t3 1 3\t3 2 6\t3 3 9\t3 4 12\t3 5 15\t\n",
      "4 0 0\t4 1 4\t4 2 8\t4 3 12\t4 4 16\t4 5 20\t\n",
      "5 0 0\t5 1 5\t5 2 10\t5 3 15\t5 4 20\t5 5 25\t\n"
     ]
    }
   ],
   "source": [
    "for i in range(6):\n",
    "    for j in range(6):\n",
    "        print(i, j, i*j, end=\"\\t\")\n",
    "    print()\n",
    "    #print(\"\\n\")"
   ]
  },
  {
   "cell_type": "code",
   "execution_count": 33,
   "metadata": {},
   "outputs": [
    {
     "name": "stdout",
     "output_type": "stream",
     "text": [
      "2 4 6 8 10 12 14 "
     ]
    }
   ],
   "source": [
    "for i in range(2, 16, 2):\n",
    "    print(i, end=\" \")"
   ]
  },
  {
   "cell_type": "code",
   "execution_count": 42,
   "metadata": {},
   "outputs": [
    {
     "name": "stdout",
     "output_type": "stream",
     "text": [
      "0 P\n",
      "1 o\n",
      "2 u\n",
      "3 r\n",
      "4 i\n",
      "5 a\n"
     ]
    }
   ],
   "source": [
    "l = \"Pouria\"\n",
    "for i in range(len(l)):\n",
    "    print(i, l[i])"
   ]
  },
  {
   "cell_type": "code",
   "execution_count": null,
   "metadata": {},
   "outputs": [
    {
     "name": "stdout",
     "output_type": "stream",
     "text": [
      "0 P\n",
      "1 o\n",
      "2 u\n",
      "3 r\n",
      "4 i\n",
      "5 a\n"
     ]
    }
   ],
   "source": [
    "# We'll run the above code using a different method.\n",
    "l = \"Pouria\"\n",
    "for i, a in enumerate(l):\n",
    "    print(i, a)"
   ]
  },
  {
   "cell_type": "code",
   "execution_count": 44,
   "metadata": {},
   "outputs": [
    {
     "name": "stdout",
     "output_type": "stream",
     "text": [
      "('Pouria', 'Lor', 30)\n",
      "('Paria', 'nemati', 28)\n",
      "('Parsa', 'zar', 29)\n"
     ]
    }
   ],
   "source": [
    "name = [\"Pouria\", \"Paria\", \"Parsa\"]\n",
    "family = [\"Lor\", \"nemati\", \"zar\"]\n",
    "age = [30, 28, 29]\n",
    "for x in zip(name, family, age):\n",
    "    print(x)"
   ]
  },
  {
   "cell_type": "code",
   "execution_count": null,
   "metadata": {},
   "outputs": [
    {
     "name": "stdout",
     "output_type": "stream",
     "text": [
      "False\n"
     ]
    }
   ],
   "source": [
    "# \"in\" operator\n",
    "name = [\"Pouria\", \"Paria\", \"Parsa\"]\n",
    "print(\"pouria\" in name)"
   ]
  },
  {
   "cell_type": "code",
   "execution_count": 56,
   "metadata": {},
   "outputs": [
    {
     "name": "stdout",
     "output_type": "stream",
     "text": [
      "I have Pouria and age is 30\n",
      "I have no data for Parsa\n",
      "I have Paria and age is 28\n"
     ]
    }
   ],
   "source": [
    "names = [\"Pouria\", \"Parsa\", \"Paria\"]\n",
    "people = {\n",
    "    \"Pouria\":{\"age\": 30, \"height\": 180},\n",
    "    \"Paria\" :{\"age\": 28, \"height\": 175}\n",
    "    }\n",
    "for name in names:\n",
    "    if name in people:\n",
    "        print(f\"I have {name} and age is {people[name][\"age\"]}\")\n",
    "    else:\n",
    "        print(f\"I have no data for {name}\")    "
   ]
  },
  {
   "cell_type": "code",
   "execution_count": 58,
   "metadata": {},
   "outputs": [
    {
     "name": "stdout",
     "output_type": "stream",
     "text": [
      "9\n",
      "1\n"
     ]
    }
   ],
   "source": [
    "print(max(1, 2, 3, 9))\n",
    "print(min(1, 2, 3, 9))"
   ]
  },
  {
   "cell_type": "code",
   "execution_count": 66,
   "metadata": {},
   "outputs": [
    {
     "name": "stdout",
     "output_type": "stream",
     "text": [
      "6\n"
     ]
    }
   ],
   "source": [
    "from random import randint\n",
    "\n",
    "print(randint(1, 6))"
   ]
  },
  {
   "cell_type": "code",
   "execution_count": 14,
   "metadata": {},
   "outputs": [
    {
     "name": "stdout",
     "output_type": "stream",
     "text": [
      "You guessed wrong.\n"
     ]
    }
   ],
   "source": [
    "from random import randint\n",
    "goal = randint(1, 6)\n",
    "num = int(input(\"Enter a number.\"))\n",
    "if num == goal:\n",
    "    print(\"You guessed right.\")\n",
    "else:\n",
    "    print(\"You guessed wrong.\")"
   ]
  }
 ],
 "metadata": {
  "kernelspec": {
   "display_name": "Python 3",
   "language": "python",
   "name": "python3"
  },
  "language_info": {
   "codemirror_mode": {
    "name": "ipython",
    "version": 3
   },
   "file_extension": ".py",
   "mimetype": "text/x-python",
   "name": "python",
   "nbconvert_exporter": "python",
   "pygments_lexer": "ipython3",
   "version": "3.13.2"
  }
 },
 "nbformat": 4,
 "nbformat_minor": 2
}
